{
 "cells": [
  {
   "cell_type": "code",
   "execution_count": 1,
   "metadata": {},
   "outputs": [],
   "source": [
    "import numpy as np\n",
    "import torch\n",
    "import torch.nn as nn\n",
    "import torch.optim as optim\n",
    "import torchvision\n",
    "import torchvision.transorms as transforms\n",
    "import matplotlib.pyplot as plt\n",
    "\n",
    "\n",
    "#MNIST Dataset\n",
    "trainset = torchvision.datasets.MNIST(root='./mnist_data', train=True,download=True, transform=transforms.ToTensor())\n",
    "testset = torchvision.datasets.MNIST(root='./mnist_data/', train=False,download=False, transform=transforms.ToTensor())\n",
    "\n",
    "\n",
    "#DataLoaders\n",
    "trainloader = torch.utils.data.DataLoader(trainset, batch_size=64,shuffle=True, num_workers=2)\n",
    "\n",
    "testloader = torch.utils.data.DataLoader(testset, batch_size=64,shuffle=False, num_workers=2)\n",
    "\n",
    "def imshow(img):\n",
    "    img = img / 2 + 0.5     # unnormalize\n",
    "    npimg = img.numpy()\n",
    "    plt.imshow(np.transpose(npimg, (1, 2, 0)))\n",
    "    \n",
    "    \n",
    " dataiter = iter(testloader)\n",
    "images, labels = dataiter.next()\n",
    "print(\"Images in a batch : \", images.size())\n",
    "imshow(torchvision.utils.make_grid(images[0:16]))\n",
    "   "
   ]
  },
  {
   "cell_type": "code",
   "execution_count": 7,
   "metadata": {},
   "outputs": [],
   "source": []
  },
  {
   "cell_type": "code",
   "execution_count": null,
   "metadata": {},
   "outputs": [],
   "source": []
  }
 ],
 "metadata": {
  "kernelspec": {
   "display_name": "Python 3",
   "language": "python",
   "name": "python3"
  },
  "language_info": {
   "codemirror_mode": {
    "name": "ipython",
    "version": 3
   },
   "file_extension": ".py",
   "mimetype": "text/x-python",
   "name": "python",
   "nbconvert_exporter": "python",
   "pygments_lexer": "ipython3",
   "version": "3.6.5"
  }
 },
 "nbformat": 4,
 "nbformat_minor": 2
}
