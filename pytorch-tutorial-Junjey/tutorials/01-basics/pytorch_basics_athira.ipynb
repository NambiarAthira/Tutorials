{
 "cells": [
  {
   "cell_type": "code",
   "execution_count": 2,
   "metadata": {},
   "outputs": [],
   "source": [
    "import torch\n",
    "import torch.nn as nn\n",
    "import torchvision\n",
    "import torchvision.transforms as transforms\n",
    "import numpy as np\n"
   ]
  },
  {
   "cell_type": "code",
   "execution_count": 24,
   "metadata": {},
   "outputs": [
    {
     "name": "stdout",
     "output_type": "stream",
     "text": [
      "tensor(1., requires_grad=True) tensor(2.)\n",
      "tensor(2., requires_grad=True) tensor(1.)\n",
      "tensor(3., requires_grad=True) tensor(1.)\n"
     ]
    }
   ],
   "source": [
    "x=torch.tensor(1.,requires_grad=True)\n",
    "w=torch.tensor(2.,requires_grad=True)\n",
    "b=torch.tensor(3.,requires_grad=True)\n",
    "\n",
    "y=w*x+b\n",
    "\n",
    "y.backward()\n",
    "print(x,x.grad)\n",
    "print(w,w.grad)\n",
    "print(b,b.grad)"
   ]
  },
  {
   "cell_type": "code",
   "execution_count": 53,
   "metadata": {},
   "outputs": [
    {
     "name": "stdout",
     "output_type": "stream",
     "text": [
      "torch.Size([10, 2])\n",
      "w:  Parameter containing:\n",
      "tensor([[-0.0587, -0.0744,  0.0784],\n",
      "        [-0.3103,  0.4651, -0.2126]], requires_grad=True)\n",
      "b:  Parameter containing:\n",
      "tensor([ 0.3058, -0.3873], requires_grad=True)\n",
      "loss1: 1.645058274269104\n",
      "loss2: 1.6235421895980835\n",
      "loss3: 1.581954002380371\n"
     ]
    }
   ],
   "source": [
    "x=torch.randn(10,3)\n",
    "y=torch.randn(10,2)\n",
    "print(y.shape)\n",
    "\n",
    "fc = nn.Linear(3, 2)\n",
    "print('w: ', fc.weight)\n",
    "print('b: ', fc.bias)\n",
    "\n",
    "\n",
    "loss = nn.MSELoss()\n",
    "optimizer = torch.optim.SGD(fc.parameters(), lr=0.01)\n",
    "\n",
    "y_pred=fc(x)\n",
    "l=loss(y_pred,y)\n",
    "print('loss1:', l.item())\n",
    "l.backward()\n",
    "\n",
    "# print('dL/dw :',fc.weight.grad)\n",
    "# print('dL/db :',fc.bias.grad)\n",
    "\n",
    "optimizer.step()\n",
    "y_pred2=fc(x)\n",
    "l2=loss( y_pred2,y)\n",
    "print('loss2:',l2.item())\n",
    "l2.backward()\n",
    "\n",
    "optimizer.step()\n",
    "y_pred3=fc(x)\n",
    "l3=loss( y_pred3,y)\n",
    "print('loss3:',l3.item())\n"
   ]
  },
  {
   "cell_type": "code",
   "execution_count": 68,
   "metadata": {},
   "outputs": [
    {
     "name": "stdout",
     "output_type": "stream",
     "text": [
      "[[1 8]\n",
      " [2 3]]\n",
      "tensor([[1, 8],\n",
      "        [2, 3]])\n",
      "[[1 8]\n",
      " [2 3]]\n"
     ]
    }
   ],
   "source": [
    "x=np.array([[1,8],[2,3]])\n",
    "print(x)\n",
    "x_torchTensor=torch.from_numpy(x)\n",
    "print(x_torchTensor)\n",
    "x_numpyArray=x_torchTensor.numpy()\n",
    "print(x_numpyArray)"
   ]
  },
  {
   "cell_type": "code",
   "execution_count": 86,
   "metadata": {},
   "outputs": [
    {
     "name": "stdout",
     "output_type": "stream",
     "text": [
      "Files already downloaded and verified\n",
      "train : 50000 images\n"
     ]
    },
    {
     "data": {
      "text/plain": [
       "torch.Size([64, 3, 32, 32])"
      ]
     },
     "execution_count": 86,
     "metadata": {},
     "output_type": "execute_result"
    },
    {
     "data": {
      "image/png": "[encoded data removed]",
      "text/plain": [
       "<Figure size 432x288 with 1 Axes>"
      ]
     },
     "metadata": {},
     "output_type": "display_data"
    }
   ],
   "source": [
    "import matplotlib.pyplot as plt\n",
    "%matplotlib inline \n",
    "plt.ion() #Turn interactive mode on.\n",
    "\n",
    "trainset = torchvision.datasets.CIFAR10(root='./cifar10', train=True,\n",
    "                                        download=True, transform=transforms.ToTensor())\n",
    "print(\"train : \" + str(len(trainset)) + ' images')\n",
    "image, label=trainset[0]\n",
    "image=image / 2 + 0.5\n",
    "image=np.transpose(image, (1,2,0))\n",
    "plt.imshow(image)\n",
    "\n",
    "\n",
    "trainloader = torch.utils.data.DataLoader(trainset, batch_size=64,\n",
    "                                          shuffle=True, num_workers=2)\n",
    "\n",
    "dataiter = iter(trainloader)\n",
    "batch, labels = dataiter.next()\n",
    "batch.shape"
   ]
  },
  {
   "cell_type": "code",
   "execution_count": null,
   "metadata": {},
   "outputs": [],
   "source": [
    "class CustomDataset(torch.utils.data.Dataset):\n",
    "    def __init__(self):\n",
    "        # TODO\n",
    "        # 1. Initialize file paths or a list of file names. \n",
    "        pass\n",
    "    def __getitem__(self, index):\n",
    "        # TODO\n",
    "        # 1. Read one data from file (e.g. using numpy.fromfile, PIL.Image.open).\n",
    "        # 2. Preprocess the data (e.g. torchvision.Transform).\n",
    "        # 3. Return a data pair (e.g. image and label).\n",
    "        pass\n",
    "    def __len__(self):\n",
    "        # You should change 0 to the total size of your dataset.\n",
    "        return 0 "
   ]
  },
  {
   "cell_type": "code",
   "execution_count": 96,
   "metadata": {},
   "outputs": [
    {
     "data": {
      "text/plain": [
       "tensor([[ 9.8261e-02,  3.1757e-01],\n",
       "        [ 5.9651e-01,  2.3505e-01],\n",
       "        [-2.7007e-01,  3.3280e-01],\n",
       "        [ 1.5449e+00,  1.1857e-01],\n",
       "        [ 8.6832e-02,  8.6872e-02],\n",
       "        [ 3.9946e-02, -5.1922e-01],\n",
       "        [ 1.2004e-01, -1.1210e-01],\n",
       "        [ 4.5987e-01, -2.1045e-01],\n",
       "        [ 9.8672e-01,  8.0520e-01],\n",
       "        [ 2.5069e-01,  2.3062e-01],\n",
       "        [ 2.7493e-01,  1.2788e-01],\n",
       "        [-2.9955e-01, -1.3733e-01],\n",
       "        [ 2.6067e-01,  9.5731e-01],\n",
       "        [ 2.0160e-01, -1.7423e-01],\n",
       "        [ 4.7966e-03,  5.1126e-01],\n",
       "        [ 2.4710e-01, -9.1190e-02],\n",
       "        [ 8.5354e-02, -4.3065e-01],\n",
       "        [ 2.3931e-01, -2.5917e-01],\n",
       "        [-5.1408e-02,  5.2848e-02],\n",
       "        [ 7.2321e-02,  3.8263e-02],\n",
       "        [ 9.6775e-01,  1.0882e+00],\n",
       "        [ 1.8452e-01, -1.9372e-02],\n",
       "        [-4.7778e-02,  9.9535e-03],\n",
       "        [ 3.3561e-02, -3.2365e-01],\n",
       "        [ 3.9320e-01,  3.7225e-01],\n",
       "        [-2.0366e-03, -6.8265e-02],\n",
       "        [ 1.1546e-01, -7.7797e-01],\n",
       "        [ 5.3543e-01, -2.3383e-01],\n",
       "        [ 5.9504e-01,  4.0807e-02],\n",
       "        [ 1.7144e-01, -2.1703e-02],\n",
       "        [ 3.6683e-01, -1.0499e-01],\n",
       "        [ 2.3844e-01, -6.2596e-02],\n",
       "        [ 1.8753e-01, -5.3805e-02],\n",
       "        [-6.7770e-02, -1.8828e-01],\n",
       "        [ 1.3038e-01, -2.2031e-01],\n",
       "        [ 2.3734e-03,  7.3487e-01],\n",
       "        [ 3.1761e-02, -1.9194e-01],\n",
       "        [ 6.5421e-01, -2.6520e-01],\n",
       "        [ 3.2487e-01,  1.4957e-01],\n",
       "        [ 2.8378e-01, -3.1957e-01],\n",
       "        [ 3.5690e-01, -3.4244e-01],\n",
       "        [-1.9769e-01,  8.1806e-02],\n",
       "        [ 7.4054e-01,  1.8530e-01],\n",
       "        [ 3.6000e-01,  3.3289e-01],\n",
       "        [ 5.7075e-01, -1.4660e-02],\n",
       "        [ 2.9128e-01,  3.3458e-01],\n",
       "        [-3.5025e-01, -5.3547e-01],\n",
       "        [ 3.3905e-01, -4.0968e-01],\n",
       "        [ 2.6939e-01,  2.5831e-01],\n",
       "        [ 6.1144e-01,  2.7368e-02],\n",
       "        [ 2.1144e-01, -3.9368e-01],\n",
       "        [ 3.5069e-01, -8.3921e-02],\n",
       "        [ 3.3485e-01, -6.0221e-02],\n",
       "        [ 3.3534e-01,  2.4738e-01],\n",
       "        [ 2.4090e-02, -2.4753e-01],\n",
       "        [-7.4422e-02, -3.6198e-01],\n",
       "        [ 4.6234e-01, -1.7681e-01],\n",
       "        [ 1.7432e-01, -1.3926e-01],\n",
       "        [ 2.9318e-01,  3.9579e-01],\n",
       "        [ 3.4371e-01,  5.4658e-04],\n",
       "        [ 8.9428e-01, -1.1417e-01],\n",
       "        [ 8.6634e-01,  2.9761e-01],\n",
       "        [ 2.9289e-01, -4.1031e-01],\n",
       "        [ 3.2523e-01, -1.7096e-01]], grad_fn=<AddmmBackward>)"
      ]
     },
     "execution_count": 96,
     "metadata": {},
     "output_type": "execute_result"
    }
   ],
   "source": [
    "model=torchvision.models.resnet50(pretrained=True)\n",
    "\n",
    "for param in model.parameters():\n",
    "    param.requires_grad = False\n",
    "    \n",
    "model.fc = nn.Linear(model.fc.in_features, 2)\n"
   ]
  },
  {
   "cell_type": "code",
   "execution_count": 98,
   "metadata": {},
   "outputs": [],
   "source": [
    "torch.save(model, 'model.ckpt')\n",
    "model = torch.load('model.ckpt')\n",
    "\n",
    "torch.save(model.state_dict(), 'params.ckpt')\n",
    "model.load_state_dict(torch.load('params.ckpt'))"
   ]
  }
 ],
 "metadata": {
  "kernelspec": {
   "display_name": "Python 3",
   "language": "python",
   "name": "python3"
  },
  "language_info": {
   "codemirror_mode": {
    "name": "ipython",
    "version": 3
   },
   "file_extension": ".py",
   "mimetype": "text/x-python",
   "name": "python",
   "nbconvert_exporter": "python",
   "pygments_lexer": "ipython3",
   "version": "3.6.5"
  }
 },
 "nbformat": 4,
 "nbformat_minor": 2
}
